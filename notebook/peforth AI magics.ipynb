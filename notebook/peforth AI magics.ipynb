{
 "cells": [
  {
   "cell_type": "markdown",
   "id": "cadac8e6-9134-4921-bf14-7d85555a4eb3",
   "metadata": {},
   "source": [
    "# Peforth magics %ai and %chat"
   ]
  },
  {
   "cell_type": "code",
   "execution_count": null,
   "id": "02205caf-0b52-4e06-90ca-f32ef0315422",
   "metadata": {},
   "outputs": [],
   "source": [
    "_file_ = \"Jupyter Notebooks/OpenAI/ChatLKK/develop/peforth AI magics.ipynb\""
   ]
  },
  {
   "cell_type": "markdown",
   "id": "d9d7d01d-df03-4051-adef-e68ce2024d49",
   "metadata": {},
   "source": [
    "## 祭出 peforth \n",
    "peforth 有 %f, %ai 以及 %chat 三個 Jupyter notebook 的 magics.\n",
    "\n",
    "|Command|Description|\n",
    "|---|:---|\n",
    "|**%f**|FORTH statement, 例如： .\" Hello World!\", help 等等。任意組合 commands, 管理大量 commands 的交談式語言，非常精簡、優美。|\n",
    "|**%ai**|對 AI 發問，不帶歷史。例如： Tell me a joke.|\n",
    "|**%chat**|對 AI 發問，帶上歷史。例如： Why is it funny ?|\n"
   ]
  },
  {
   "cell_type": "code",
   "execution_count": null,
   "id": "37b534e6-7939-4c11-8a89-d07740209c61",
   "metadata": {},
   "outputs": [],
   "source": [
    "import os, peforth"
   ]
  },
  {
   "cell_type": "code",
   "execution_count": null,
   "id": "95f8faab-825d-4621-b37f-47c439a77d4c",
   "metadata": {},
   "outputs": [],
   "source": [
    "from columbus_api import Columbus\n",
    "columbus = Columbus()"
   ]
  },
  {
   "cell_type": "markdown",
   "id": "ec84e2d5-e178-474a-bd8f-bd853274c2c3",
   "metadata": {},
   "source": [
    "## 準備工作，為 AI 提供必要零件。\n",
    "從 columbus_api 取得 llm. 這個例子是取用 LLM for LangChain, 如果是別的，例如 LLM for CrewAI, LLM for DSPy 則以下的 llm_wrapper 會稍有不同。"
   ]
  },
  {
   "cell_type": "markdown",
   "id": "01153aaa-f083-4371-8845-2c2629f17e21",
   "metadata": {},
   "source": [
    "### 採用 OpenAI "
   ]
  },
  {
   "cell_type": "code",
   "execution_count": null,
   "id": "90ee6da5-e1f2-4d86-a921-b2c2f6388d51",
   "metadata": {},
   "outputs": [],
   "source": [
    "# 查看 api key 採用 columbus if is null, otherwise 用你自己的 account.\n",
    "os.getenv(\"OPENAI_API_KEY\")"
   ]
  },
  {
   "cell_type": "code",
   "execution_count": null,
   "id": "ce11d171-8081-4793-8c95-567291263937",
   "metadata": {},
   "outputs": [],
   "source": [
    "llm = columbus.get_llm_for_LangChain(modelname=\"gpt-3.5-turbo\", openai_api_key=os.getenv(\"OPENAI_API_KEY\"))\n",
    "%f get_ipython to @get_ipython \\ 把 get_ipython 介紹給 peforth\n",
    "%f llm constant llm_object \\ 把 llm 介紹給 peforth\n",
    "%f : llm_wrapper ( prompt -- complete ) trim llm_object :> invoke(pop()).content ; \\ 定義 llm_wrapper\n",
    "%f ' llm_wrapper to @llm \\ 把 llm_wrapper 介紹給 peforth "
   ]
  },
  {
   "cell_type": "markdown",
   "id": "51967f08-097f-486c-b98d-5a30c3244e05",
   "metadata": {},
   "source": [
    "### 採用 Gemini"
   ]
  },
  {
   "cell_type": "code",
   "execution_count": null,
   "id": "4936e22f-1050-40b7-972d-9a935e7dde99",
   "metadata": {},
   "outputs": [],
   "source": [
    "# 確定有 api key \n",
    "os.getenv(\"GoogleAIStudio_API_KEY\")"
   ]
  },
  {
   "cell_type": "code",
   "execution_count": null,
   "id": "c068b39c-7229-4c98-a3c5-15e655a0da6b",
   "metadata": {},
   "outputs": [],
   "source": [
    "llm = columbus.get_llm_gemini(api_key=os.getenv(\"GoogleAIStudio_API_KEY\"))\n",
    "%f get_ipython to @get_ipython \\ 把 get_ipython 介紹給 peforth\n",
    "%f llm constant llm_function \\ 把 llm 介紹給 peforth\n",
    "%f : llm_wrapper ( prompt -- complete ) trim llm_function :> (pop()) dup str :> rfind(\"candidates\")==-1 if str else :> ['candidates'][0]['output'] then ;\n",
    "%f ' llm_wrapper to @llm \\ 把 llm_wrapper 介紹給 peforth "
   ]
  },
  {
   "cell_type": "markdown",
   "id": "c10b637d-1edb-41f8-aa41-ccf26261a72a",
   "metadata": {},
   "source": [
    "### 採用 Antropic Claude\n",
    "\n",
    "- [API reverence - SDK](https://docs.anthropic.com/en/api/client-sdks)\n",
    "- [Models the prices](https://docs.anthropic.com/en/docs/about-claude/models#legacy-model-comparison)"
   ]
  },
  {
   "cell_type": "code",
   "execution_count": null,
   "id": "5a99e4ac-cb5c-42b9-9c14-bd4020c59d89",
   "metadata": {},
   "outputs": [],
   "source": [
    "# 確定有 api key \n",
    "os.getenv(\"ANTHROPIC_API_KEY\")"
   ]
  },
  {
   "cell_type": "code",
   "execution_count": null,
   "id": "52453173-0de2-42f5-a8f3-0c3f30b952f5",
   "metadata": {
    "scrolled": true
   },
   "outputs": [],
   "source": [
    "!pip install anthropic\n",
    "import anthropic\n",
    "client = anthropic.Anthropic()\n",
    "def llm(prompt):\n",
    "    message = client.messages.create(\n",
    "        model=\"claude-3-haiku-20240307\", # $0.25 / $1.25 MTok\n",
    "        max_tokens=1024,\n",
    "        messages=[\n",
    "            {\"role\": \"user\", \"content\": prompt}\n",
    "        ]\n",
    "    )\n",
    "    return message\n",
    "\n",
    "%f get_ipython to @get_ipython \\ 把 get_ipython 介紹給 peforth\n",
    "%f llm constant llm_function \\ 把 llm 介紹給 peforth\n",
    "%f : llm_wrapper ( prompt -- complete ) trim llm_function :> (pop()) dup str :> rfind(\"type='message'\")==-1 if str else :> content[0].text then ;\n",
    "%f ' llm_wrapper to @llm \\ 把 llm_wrapper 介紹給 peforth "
   ]
  },
  {
   "cell_type": "markdown",
   "id": "d1701559-e6f4-49b5-b129-afa81294f958",
   "metadata": {},
   "source": [
    "## 試用 magics %ai and %chat "
   ]
  },
  {
   "cell_type": "code",
   "execution_count": null,
   "id": "6ed1639f-d249-4651-82ec-deb6701a0f61",
   "metadata": {},
   "outputs": [],
   "source": [
    "%f \"\" to chat_history \\ 把以前的 chatting contexts 都清除掉。\n",
    "%ai tell me a joke \n",
    "%chat why is it funny ? "
   ]
  },
  {
   "cell_type": "markdown",
   "id": "20a0a687-1df6-4a9f-919e-4f6250959eac",
   "metadata": {},
   "source": [
    "## 查看 chat_history"
   ]
  },
  {
   "cell_type": "code",
   "execution_count": null,
   "id": "148b72e5-f24f-439c-bc98-1329568ffc7f",
   "metadata": {},
   "outputs": [],
   "source": [
    "%f chat_history . \\ 最後有個小點，它是 forth 的 print 命令。"
   ]
  },
  {
   "cell_type": "markdown",
   "id": "4e65a1c4-de4e-4c97-87d4-98c869db1105",
   "metadata": {},
   "source": [
    "## 篡改 chat_history"
   ]
  },
  {
   "cell_type": "code",
   "execution_count": null,
   "id": "305353c3-1bc7-4713-94a2-19179b4fbd77",
   "metadata": {},
   "outputs": [],
   "source": [
    "%%f\n",
    "<text>\n",
    "User: Write me a poem.\n",
    "Assistnat: What peom?\n",
    "User: peforth new magic %ai and %chat for Jupyter notebook is now available.\n",
    "</text> to chat_history"
   ]
  },
  {
   "cell_type": "code",
   "execution_count": null,
   "id": "bb85bea1-8308-4c43-bb0e-609291082b54",
   "metadata": {},
   "outputs": [],
   "source": [
    "%chat"
   ]
  },
  {
   "cell_type": "markdown",
   "id": "23290e9c-9346-440d-bd87-8d17629b3313",
   "metadata": {},
   "source": [
    "# Playground"
   ]
  },
  {
   "cell_type": "code",
   "execution_count": null,
   "id": "92a3c610-2e81-4939-a1d4-8198a43687b1",
   "metadata": {},
   "outputs": [],
   "source": [
    "%ai Tell me about 愛沙尼亞\n",
    "%chat Their communist experience.  "
   ]
  },
  {
   "cell_type": "code",
   "execution_count": null,
   "id": "73352477-6bdf-4548-be43-0608bdb5965a",
   "metadata": {},
   "outputs": [],
   "source": []
  },
  {
   "cell_type": "code",
   "execution_count": null,
   "id": "6712c1bd-0c35-4a7b-baae-22b661bd8dd2",
   "metadata": {},
   "outputs": [],
   "source": []
  },
  {
   "cell_type": "code",
   "execution_count": null,
   "id": "af359cb4-ba3d-45ed-ab01-9c951b5604fe",
   "metadata": {},
   "outputs": [],
   "source": []
  },
  {
   "cell_type": "markdown",
   "id": "a78bc73f-0631-4009-919a-66b13c13dc66",
   "metadata": {},
   "source": [
    "# The END"
   ]
  }
 ],
 "metadata": {
  "kernelspec": {
   "display_name": "Python 3 (ipykernel)",
   "language": "python",
   "name": "python3"
  },
  "language_info": {
   "codemirror_mode": {
    "name": "ipython",
    "version": 3
   },
   "file_extension": ".py",
   "mimetype": "text/x-python",
   "name": "python",
   "nbconvert_exporter": "python",
   "pygments_lexer": "ipython3",
   "version": "3.10.0"
  }
 },
 "nbformat": 4,
 "nbformat_minor": 5
}
